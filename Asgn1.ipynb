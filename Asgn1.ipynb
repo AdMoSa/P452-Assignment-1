{
 "cells": [
  {
   "cell_type": "code",
   "execution_count": 1,
   "metadata": {},
   "outputs": [],
   "source": [
    "import numpy as np"
   ]
  },
  {
   "cell_type": "markdown",
   "metadata": {},
   "source": [
    "## Question 1"
   ]
  },
  {
   "cell_type": "code",
   "execution_count": 2,
   "metadata": {},
   "outputs": [],
   "source": [
    "matrix_A = np.array([[1.,-1.,4.,0.,2.,9.],\n",
    "                     [0.,5.,-2.,7.,8.,4.],\n",
    "                     [1.,0.,5.,7.,3.,-2.],\n",
    "                     [6.,-1.,2.,3.,0.,8.],\n",
    "                     [-4.,2.,0.,5.,-5.,3.],\n",
    "                     [0.,7.,-1.,5.,4.,-2.]])\n",
    "matrix_b = np.array([[19.],\n",
    "                     [2.],\n",
    "                     [13.],\n",
    "                     [-7.],\n",
    "                     [-9.],\n",
    "                     [2.]])"
   ]
  },
  {
   "cell_type": "code",
   "execution_count": 3,
   "metadata": {},
   "outputs": [],
   "source": [
    "from comp_phy import Gauss_Jordan as GJ"
   ]
  },
  {
   "cell_type": "code",
   "execution_count": 4,
   "metadata": {},
   "outputs": [],
   "source": [
    "matrix_Ab = GJ.make_aug(matrix_A, matrix_b)"
   ]
  },
  {
   "cell_type": "code",
   "execution_count": 5,
   "metadata": {},
   "outputs": [
    {
     "name": "stdout",
     "output_type": "stream",
     "text": [
      "[[ 1. -1.  4.  0.  2.  9. 19.]\n",
      " [ 0.  5. -2.  7.  8.  4.  2.]\n",
      " [ 1.  0.  5.  7.  3. -2. 13.]\n",
      " [ 6. -1.  2.  3.  0.  8. -7.]\n",
      " [-4.  2.  0.  5. -5.  3. -9.]\n",
      " [ 0.  7. -1.  5.  4. -2.  2.]]\n"
     ]
    }
   ],
   "source": [
    "print(matrix_Ab)"
   ]
  },
  {
   "cell_type": "code",
   "execution_count": 6,
   "metadata": {},
   "outputs": [],
   "source": [
    "Gauss_Ab = GJ.Gauss_Jordan(matrix_Ab)          #return two values: [0]: Gauss_decomp and [1]: determinant"
   ]
  },
  {
   "cell_type": "code",
   "execution_count": 7,
   "metadata": {},
   "outputs": [
    {
     "name": "stdout",
     "output_type": "stream",
     "text": [
      "[[-1.761817043998]\n",
      " [ 0.896228033874]\n",
      " [ 4.051931404116]\n",
      " [-1.61713080254 ]\n",
      " [ 2.041913538502]\n",
      " [ 0.151832487156]]\n"
     ]
    }
   ],
   "source": [
    "row = len(Gauss_Ab[0])                         #to recover the solved value of x from Gauss_decomp\n",
    "GJ_solve_x = np.zeros((row,1))\n",
    "mat = Gauss_Ab[0]\n",
    "                      \n",
    "for i in range(row):\n",
    "    GJ_solve_x[i] = mat[i][row]\n",
    "print(GJ_solve_x)"
   ]
  },
  {
   "cell_type": "code",
   "execution_count": 8,
   "metadata": {},
   "outputs": [],
   "source": [
    "from comp_phy import LU_decomp as LU"
   ]
  },
  {
   "cell_type": "code",
   "execution_count": 9,
   "metadata": {},
   "outputs": [],
   "source": [
    "LU_A = LU.LU_decomp(matrix_A)"
   ]
  },
  {
   "cell_type": "code",
   "execution_count": 10,
   "metadata": {},
   "outputs": [],
   "source": [
    "LU_solve_x = LU.solve_LU(LU_A,matrix_b)"
   ]
  },
  {
   "cell_type": "code",
   "execution_count": 11,
   "metadata": {},
   "outputs": [
    {
     "name": "stdout",
     "output_type": "stream",
     "text": [
      "[[-1.761817043998]\n",
      " [ 0.896228033874]\n",
      " [ 4.051931404116]\n",
      " [-1.61713080254 ]\n",
      " [ 2.041913538502]\n",
      " [ 0.151832487156]]\n"
     ]
    }
   ],
   "source": [
    "print(LU_solve_x)"
   ]
  },
  {
   "cell_type": "code",
   "execution_count": 12,
   "metadata": {},
   "outputs": [],
   "source": [
    "from comp_phy import Jacobi as Jac"
   ]
  },
  {
   "cell_type": "code",
   "execution_count": 13,
   "metadata": {},
   "outputs": [
    {
     "name": "stdout",
     "output_type": "stream",
     "text": [
      "Solution not possible, method diverges\n",
      "comp  379.4453333333333\n",
      "comp  379.4453333333333\n"
     ]
    }
   ],
   "source": [
    "Jac_solve_x = Jac.Jacobi(matrix_A,matrix_b)"
   ]
  },
  {
   "cell_type": "code",
   "execution_count": 14,
   "metadata": {},
   "outputs": [
    {
     "name": "stdout",
     "output_type": "stream",
     "text": [
      "[  79.826666666667   83.992            63.144           -22.293333333333\n",
      "  -49.816          -122.613333333333]\n"
     ]
    }
   ],
   "source": [
    "print(Jac_solve_x)"
   ]
  },
  {
   "cell_type": "code",
   "execution_count": 15,
   "metadata": {},
   "outputs": [],
   "source": [
    "from comp_phy import Gauss_Seidel as GS"
   ]
  },
  {
   "cell_type": "code",
   "execution_count": 16,
   "metadata": {},
   "outputs": [
    {
     "name": "stdout",
     "output_type": "stream",
     "text": [
      "Solution not possible, method diverges.\n",
      "comp  315.42\n"
     ]
    }
   ],
   "source": [
    "GS_solve_x = GS.Gauss_Seidel(matrix_A,matrix_b)"
   ]
  },
  {
   "cell_type": "code",
   "execution_count": 17,
   "metadata": {},
   "outputs": [
    {
     "name": "stdout",
     "output_type": "stream",
     "text": [
      "[  19.      0.4    -1.2   -39.4   -52.64 -202.78]\n"
     ]
    }
   ],
   "source": [
    "print(GS_solve_x)"
   ]
  },
  {
   "cell_type": "markdown",
   "metadata": {},
   "source": [
    "## Question 2"
   ]
  },
  {
   "cell_type": "code",
   "execution_count": 18,
   "metadata": {},
   "outputs": [],
   "source": [
    "from fractions import Fraction as frac"
   ]
  },
  {
   "cell_type": "code",
   "execution_count": 19,
   "metadata": {},
   "outputs": [],
   "source": [
    "matrix_A2 = np.array([[2.,-3.,0.,0.,0.,0.],\n",
    "                      [-1.,4.,-1.,0.,-1.,0.],\n",
    "                      [0.,-1.,4.,0.,0.,-1.],\n",
    "                      [0.,0.,0.,2.,-3.,0.],\n",
    "                      [0.,-1.,0.,-1.,4.,-1.],\n",
    "                      [0.,0.,-1.,0.,-1.,4]])\n",
    "matrix_b2 = np.array([[frac(-5,2)],\n",
    "                       [frac(2,3)],\n",
    "                       [3],\n",
    "                       [frac(-4,3)],\n",
    "                       [frac(-1,3)],\n",
    "                       [frac(5,3)]])"
   ]
  },
  {
   "cell_type": "code",
   "execution_count": 20,
   "metadata": {},
   "outputs": [
    {
     "name": "stdout",
     "output_type": "stream",
     "text": [
      "comp  8.2923732851653e-05\n"
     ]
    }
   ],
   "source": [
    "GS_solve_x2 = GS.Gauss_Seidel(matrix_A2,matrix_b2)"
   ]
  },
  {
   "cell_type": "code",
   "execution_count": 21,
   "metadata": {},
   "outputs": [
    {
     "name": "stdout",
     "output_type": "stream",
     "text": [
      "Solution via Gauss Seidel Method\n",
      "[-1.112611615561  0.091604923712  0.927840687828 -0.83987389271\n",
      " -0.115461118682  0.619761558953]\n"
     ]
    }
   ],
   "source": [
    "print(\"Solution via Gauss Seidel Method\")\n",
    "print(GS_solve_x2)"
   ]
  },
  {
   "cell_type": "code",
   "execution_count": 22,
   "metadata": {},
   "outputs": [
    {
     "name": "stdout",
     "output_type": "stream",
     "text": [
      "comp  9.443554864833892e-05\n"
     ]
    }
   ],
   "source": [
    "Jac_solve_x2 = Jac.Jacobi(matrix_A2,matrix_b2)"
   ]
  },
  {
   "cell_type": "code",
   "execution_count": 23,
   "metadata": {},
   "outputs": [
    {
     "name": "stdout",
     "output_type": "stream",
     "text": [
      "Solution via Jacobi Method\n",
      "[-1.112546864166  0.091621561443  0.927851667382 -0.839843393421\n",
      " -0.115436161356  0.619765147091]\n"
     ]
    }
   ],
   "source": [
    "print(\"Solution via Jacobi Method\")\n",
    "print(Jac_solve_x2)"
   ]
  },
  {
   "cell_type": "code",
   "execution_count": 24,
   "metadata": {},
   "outputs": [],
   "source": [
    "from comp_phy import Conjugate_Gradient as CG"
   ]
  },
  {
   "cell_type": "code",
   "execution_count": 25,
   "metadata": {},
   "outputs": [],
   "source": [
    "mat_b2=np.array([frac(-5,2),frac(2,3),3,frac(-4,3),frac(-1,3),frac(5,3)])"
   ]
  },
  {
   "cell_type": "code",
   "execution_count": 26,
   "metadata": {},
   "outputs": [
    {
     "name": "stdout",
     "output_type": "stream",
     "text": [
      "Iteration: 30000 \t x = [-1.1121109819220596 0.09170839725948181 0.9279459071497012\n",
      " -0.8400492681207176 -0.11564302102769031 0.6196048073295278] \t residual = 0.0011\n",
      "\n",
      "Solution: \t x = [-1.1121109819220596 0.09170839725948181 0.9279459071497012\n",
      " -0.8400492681207176 -0.11564302102769031 0.6196048073295278]\n"
     ]
    }
   ],
   "source": [
    "x0 = np.array([-1,-2,-1,1,-2,2])\n",
    "CG_solve_x2 = CG.Conjugate_Gradient(matrix_A2, mat_b2, x0)"
   ]
  }
 ],
 "metadata": {
  "kernelspec": {
   "display_name": "Python 3",
   "language": "python",
   "name": "python3"
  },
  "language_info": {
   "codemirror_mode": {
    "name": "ipython",
    "version": 3
   },
   "file_extension": ".py",
   "mimetype": "text/x-python",
   "name": "python",
   "nbconvert_exporter": "python",
   "pygments_lexer": "ipython3",
   "version": "3.7.4"
  }
 },
 "nbformat": 4,
 "nbformat_minor": 2
}
